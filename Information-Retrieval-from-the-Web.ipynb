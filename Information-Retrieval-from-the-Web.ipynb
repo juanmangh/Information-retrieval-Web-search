{
 "cells": [
  {
   "cell_type": "code",
   "execution_count": 4,
   "metadata": {
    "collapsed": false
   },
   "outputs": [
    {
     "name": "stdout",
     "output_type": "stream",
     "text": [
      "The United Kingdom's withdrawal from the European Union (EU), commonly called \"Brexit\", is the result of a majority of British voters deciding to leave the EU in the referendum on the issue on 23 June 2016. Prime Minister Theresa May invoked Article 50 of the Treaty on the European Union on 29 March 2017, starting the two-year period of withdrawal negotiations. The UK is therefore set to leave the EU by April 2019.\n",
      "\n",
      "The terms of withdrawal have not yet been negotiated, and the UK remains a full member of the European Union. May said that the UK government would not seek permanent single market membership, and promised a Great Repeal Bill that would repeal the European Communities Act and would incorporate existing European Union law into the domestic law of the UK.\n",
      "\n",
      "The UK joined the European Communities, the predecessor of the EU, on 1 January 1973. A referendum in 1975 approved its membership. In the 1970s and 1980s, withdrawal from the EC was advocated mainly by Labour Party and trade union figures. From the 1990s, the main advocates of withdrawal from the EU were the newly founded UK Independence Party (UKIP) and an increasing number of Conservative MPs.\n",
      "\n",
      "The departure of the UK is expected to have a major effect on the EU: Germany and her remaining northern EU allies will lose their blocking minority of 35% in the Council of the European Union, enabling the other EU countries to enforce specific proposals such as relaxing EU budget discipline or providing EU-wide deposit guarantees within the banking union.\n",
      "\n",
      "Historical background\n",
      "Since 1977, both pro- and anti-European views have had majority support at different times, with some dramatic swings between the two camps. In the United Kingdom European Communities membership referendum of 1975, two-thirds of British voters favoured continued EC membership. The highest-ever rejection of membership was in 1980, the first full year of Prime Minister Margaret Thatcher's term of office, with 65% opposed to and 26% in favour of membership. After Thatcher had negotiated a rebate of British membership payments in 1984, those favouring the EC maintained a lead in the opinion polls, except during 2000, as Prime Minister Tony Blair aimed for closer EU integration, including adoption of the euro currency, and around 2011, as immigration into the United Kingdom became increasingly noticeable. As late as December 2015 there was, according to ComRes, a clear majority in favour of remaining in the EU, albeit with a warning that voter intentions would be considerably influenced by the outcome of Prime Minister David Cameron's ongoing EU reform negotiations, especially with regards to the two issues of \"safeguards for non-Eurozone member states\" and \"immigration\". The following events are relevant.\n",
      "\n",
      "European Communities and British membership\n",
      "The UK was not a signatory of the three original treaties that were incorporated into what was then the European Communities, including the most well known of these, the 1957 Treaty of Rome, establishing the European Economic Community (EEC). The UK's applications to join in 1963 and 1967 were vetoed by the President of France, Charles de Gaulle, who said that \"a number of aspects of Britain's economy, from working practices to agriculture\" had \"made Britain incompatible with Europe\" and that Britain harboured a \"deep-seated hostility\" to any pan-European project. Once de Gaulle had relinquished the French presidency in 1969, the UK made a third and successful application for membership. The question of sovereignty had been discussed at the time in an official Foreign and Commonwealth Office document (FCO 30/1048); this was made open to the public in January 2002 under the rules for availability after thirty years. It listed among \"Areas of policy in which parliamentary freedom to legislate will be affected by entry into the European Communities\": Customs duties, Agriculture, Free movement of labour, services and capital, Transport, and Social Security for migrant workers. The document concluded (paragraph 26) that it was advisable to put the considerations of influence and power before those of formal sovereignty. The Treaty of Accession was signed in January 1972 by the then prime minister Edward Heath, leader of the Conservative Party. Parliament's European Communities Act 1972 was enacted on 17 October, and the UK's instrument of ratification was deposited the next day (18 October), letting the United Kingdom's membership of the EC come into effect on 1 January 1973.\n",
      "\n",
      "1975 referendum\n",
      "In 1975, the United Kingdom held its first ever national referendum on whether the UK should remain in the European Communities. The opposition Labour Party, led by Harold Wilson, had contested the October 1974 general election with a commitment to renegotiate Britain's terms of membership of the EC and then hold a referendum on whether to remain in the EC on the new terms. All of the major political parties and the mainstream press supported continuing membership of the EC. However, there were significant divides within the ruling Labour Party; a 1975 one-day party conference voted by two to one in favour of withdrawal, and seven of the 23 cabinet ministers were opposed to EC membership, with Harold Wilson suspending the constitutional convention of Cabinet collective responsibility to allow those ministers to publicly campaign against the government.\n",
      "\n",
      "On 5 June 1975, the electorate were asked to vote yes or no on the question: \"Do you think the UK should stay in the European Community (Common Market)?\" Every administrative county and region in the UK returned majority \"Yes\" votes, apart from the Shetland Islands and the Outer Hebrides. With a turnout of just under 65%, the outcome of the vote was 67.2% in favour of staying in, and the United Kingdom remained a member of the EC. Support for the UK to leave the EC in 1975, in the data, appears unrelated to the support for Leave in the 2016 referendum.\n",
      "\n",
      "Thatcher years\n",
      "In 1979, the United Kingdom opted out of the newly formed European Monetary System (EMS), which was the precursor to the creation of the euro currency.\n",
      "\n",
      "The opposition Labour Party campaigned in the 1983 general election on a commitment to withdraw from the EC without a referendum. It was heavily defeated; the Conservative government of Margaret Thatcher was re-elected. The Labour Party subsequently changed its policy.\n",
      "\n",
      "In 1985, the United Kingdom ratified the Single European Act—the first major revision to the Treaty of Rome—without a referendum, with the full support of the Thatcher government.\n",
      "\n",
      "In October 1990—despite the deep reservations of Margaret Thatcher, who was under pressure from her senior ministers—the United Kingdom joined the European Exchange Rate Mechanism (ERM), with the pound sterling pegged to the deutschmark.\n",
      "\n",
      "Maastricht and after\n",
      "Thatcher resigned as Prime Minister in November 1990, amid internal divisions within the Conservative Party that arose partly from her increasingly Eurosceptic views. The United Kingdom was forced to withdraw from the ERM in September 1992, after the pound sterling came under pressure from currency speculators (an episode known as Black Wednesday). The resulting cost to UK taxpayers was estimated to be in excess of £3 billion.\n",
      "\n",
      "As a result of the Maastricht Treaty, the European Communities became the European Union on 1 November 1993. The new name reflected the evolution of the organisation from an economic union into a political union. As a result of the Lisbon Treaty, which entered into force on 1 December 2009, the Maastricht Treaty is now known, in updated form as, the Treaty on European Union (2007) or TEU, and the Treaty of Rome is now known, in updated form, as the Treaty on the Functioning of the European Union (2007) or TFEU.\n",
      "\n",
      "The Referendum Party was formed in 1994 by Sir James Goldsmith to contest the 1997 general election on a platform of providing a referendum on the UK's membership of the EU. It fielded candidates in 547 constituencies at that election, and won 810,860 votes or 2.6% of the total votes cast. It failed to win a single parliamentary seat because its vote was spread out across the country, and lost its deposit (funded by Goldsmith) in 505 constituencies.\n",
      "\n",
      "Role of UKIP\n",
      "The UK Independence Party (UKIP), a Eurosceptic political party, was also formed, in 1993. It achieved third place in the UK during the 2004 European elections, second place in the 2009 European elections and first place in the 2014 European elections, with 27.5% of the total vote. This was the first time since the 1910 general election that any party other than the Labour or Conservative parties had taken the largest share of the vote in a nationwide election. UKIP's electoral success in the 2014 European election has been documented as the strongest correlate of the support for the leave campaign in the 2016 referendum.\n",
      "\n",
      "In 2014, UKIP won two by-elections, triggered by defecting Conservative MPs, and in the 2015 general election took 12.6% of the total vote and held one of the two seats won in 2014.\n",
      "\n",
      "Role of the Conservative Party\n",
      "Elements within the Conservative Party oppose the EU directive of enforceability of ECHR rulings (e.g. Article 6(2) of Maastricht Treaty) over and above the Law of the United Kingdom, and this topic has for a long time been a major factor prior to the debate surrounding the proposed departure of the British from the EU.\n",
      "\n",
      "Euroscepticism\n",
      "In a statistical analysis published in April 2016, Professor John Curtice of Strathclyde University defined Euroscepticism as the wish to sever or reduce the powers of the EU, and conversely Europhilia as the desire to preserve or increase the powers of the EU. According to this definition, the British Social Attitudes (BSA) surveys show an increase in euroscepticism from 38% (1993) to 65% (2015). Euroscepticism should however not be confused with the wish to leave the EU: the BSA survey for the period July–November 2015 shows that 60% backed the option \"continue as an EU member\", and only 30% backed the option to \"withdraw\".\n",
      "\n",
      "2016 referendum\n",
      "Negotiations for EU reform\n",
      "In 2012, Prime Minister David Cameron rejected calls for a referendum on the UK's EU membership, but suggested the possibility of a future referendum to gauge public support. According to the BBC, \"The prime minister acknowledged the need to ensure the UK's position within the European Union had 'the full-hearted support of the British people' but they needed to show 'tactical and strategic patience'.\"\n",
      "\n",
      "Under pressure from many of his MPs and from the rise of UKIP, in January 2013, Cameron announced that a Conservative government would hold an in–out referendum on EU membership before the end of 2017, on a renegotiated package, if elected in 2015.\n",
      "\n",
      "The Conservative Party unexpectedly won the 2015 general election with a majority. Soon afterwards the European Union Referendum Act 2015 was introduced into Parliament to enable the referendum. Cameron favoured remaining in a reformed European Union, and sought to renegotiate on four key points: protection of the single market for non-eurozone countries, reduction of \"red tape\", exempting Britain from \"ever-closer union\", and restricting EU immigration.\n",
      "\n",
      "The outcome of the renegotiations was announced in February 2016. Some limits to in-work benefits for new EU immigrants were agreed, but before they could be applied, a country such as the UK would have to get permission from the European Commission and then from the European Council.\n",
      "\n",
      "In a speech to the House of Commons on 22 February 2016, Cameron announced a referendum date of 23 June 2016, and commented on the renegotiation settlement. He spoke of an intention to trigger the Article 50 process immediately following a leave vote, and of the \"two-year time period to negotiate the arrangements for exit.\"\n",
      "\n",
      "Campaign groups\n",
      "The official campaign group for leaving the EU was Vote Leave after a contest for the designation with Leave.EU.\n",
      "\n",
      "The official campaign to stay in the EU, chaired by Stuart Rose, was known as Britain Stronger in Europe, or informally as Remain. Other campaigns supporting remaining in the EU included Conservatives In, Labour in for Britain, #INtogether (Liberal Democrats), Greens for a Better Europe, Scientists for EU, Environmentalists For Europe, Universities for Europe and Another Europe is Possible.\n",
      "\n",
      "Referendum result\n",
      "The result was announced on the morning of 24 June: 51.9% voted in favour of leaving the European Union, and 48.1% voted in favour of remaining a member of the European Union. Comprehensive results are available from the UK Electoral Commission Referendum Results site. A petition calling for a second referendum attracted more than four million signatures, but was rejected by the government on 9 July.\n",
      "\n",
      "Political effects\n",
      "After the result was declared, Cameron announced that he would resign by October. He stood down on 13 July 2016, with Theresa May becoming Prime Minister after a leadership contest. George Osborne was replaced as Chancellor of the Exchequer by Philip Hammond, former Mayor of London Boris Johnson was appointed Secretary of State for Foreign and Commonwealth Affairs, and David Davis became Secretary of State for Exiting the European Union. Labour leader Jeremy Corbyn lost a vote of confidence among his parliamentary party, and an unsuccessful leadership challenge was launched. On 4 July, Nigel Farage announced his resignation as leader of UKIP.\n",
      "\n",
      "Outside the UK, many Eurosceptic leaders celebrated the result, and expected others to follow the UK example. The right-wing Dutch populist Geert Wilders said that the Netherlands should follow Britain's example and hold a referendum on whether the Netherlands should stay in the European Union. However, opinion polls in the fortnight following the British referendum show that the immediate reaction in the Netherlands and other European countries was a decline in support for Eurosceptic movements.\n",
      "\n",
      "Procedure for leaving the EU\n",
      "Withdrawal from the European Union is governed by Article 50 of the Treaty on European Union. Under the Article 50 invocation procedure, a member notifies the European Council and there is a negotiation period of up to two years, after which the treaties cease to apply. Although terms of leaving may be agreed, aspects such as trade may be difficult to negotiate until the UK has left the EU.\n",
      "\n",
      "Although the 2015 Referendum Act did not expressly require Article 50 to be invoked, the UK government stated that it would expect a leave vote to be followed by withdrawal despite government refusal to make contingency plans. Following the referendum result, Cameron resigned and said that it would be for the incoming Prime Minister to invoke Article 50.\n",
      "\n",
      "The Supreme Court ruled in the Miller case in January 2017 that the government needed parliamentary approval to trigger Article 50. After the House of Commons overwhelmingly voted, on 1 February 2017, for the government's bill authorising the prime minister to invoke Article 50, the bill passed into law as the European Union (Notification of Withdrawal) Act 2017. Theresa May signed the letter invoking Article 50 on 28 March 2017, which was delivered on 29 March by Tim Barrow, the UK's ambassador to the EU, to Donald Tusk.\n",
      "\n",
      "Reversibility\n",
      "The issue of whether the UK's invocation of Article 50 can be revoked is unclear. Article 50 is silent on the matter, but its author Lord Kerr has asserted that the Article 50 notification is reversible.\n"
     ]
    }
   ],
   "source": [
    "filenames = [\"Articles/Article1.txt\",\"Articles/Article2.txt\",\"Articles/Article3.txt\",\"Articles/Article4.txt\",\"Articles/Article5.txt\",\"Articles/Article6.txt\",\"Articles/Article7.txt\",\"Articles/Article8.txt\",\"Articles/Article9.txt\",\"Articles/Article10.txt\"]\n",
    "files = [open(i, \"r\") for i in filenames]\n",
    "print(files[0].read())"
   ]
  },
  {
   "cell_type": "code",
   "execution_count": null,
   "metadata": {
    "collapsed": true
   },
   "outputs": [],
   "source": []
  }
 ],
 "metadata": {
  "anaconda-cloud": {},
  "kernelspec": {
   "display_name": "Python [conda root]",
   "language": "python",
   "name": "conda-root-py"
  },
  "language_info": {
   "codemirror_mode": {
    "name": "ipython",
    "version": 3
   },
   "file_extension": ".py",
   "mimetype": "text/x-python",
   "name": "python",
   "nbconvert_exporter": "python",
   "pygments_lexer": "ipython3",
   "version": "3.5.2"
  }
 },
 "nbformat": 4,
 "nbformat_minor": 1
}
